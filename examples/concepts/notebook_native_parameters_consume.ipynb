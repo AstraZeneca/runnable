{
    "cells": [
        {
            "cell_type": "code",
            "execution_count": 1,
            "id": "3e98e89e-765c-42d4-81ea-c371c2eab14d",
            "metadata": {},
            "outputs": [],
            "source": [
                "from pydantic import BaseModel\n",
                "\n",
                "\n",
                "class EggsModel(BaseModel):\n",
                "    ham: str\n",
                "\n",
                "\n",
                "class EverythingModel(BaseModel):\n",
                "    spam: str\n",
                "    eggs: EggsModel\n"
            ]
        },
        {
            "cell_type": "code",
            "execution_count": null,
            "id": "e7f0aab2",
            "metadata": {
                "tags": [
                    "parameters"
                ]
            },
            "outputs": [],
            "source": [
                "# Note the tag parameters\n",
                "spam = \"Change me\" \n",
                "eggs =\"Change me\"\n",
                "custom = \"change me\""
            ]
        },
        {
            "cell_type": "code",
            "execution_count": null,
            "id": "0e04f11a",
            "metadata": {},
            "outputs": [],
            "source": [
                "eggs = EggsModel.model_validate(eggs) # Cast the dict to EggsModel object"
            ]
        },
        {
            "cell_type": "code",
            "execution_count": null,
            "id": "9f1cbac6-cada-42b0-8fb1-ddb25a88836c",
            "metadata": {},
            "outputs": [],
            "source": [
                "spam =\"World\"\n",
                "eggs = EggsModel(ham=\"No, Thank you!!\")\n"
            ]
        }
    ],
    "metadata": {
        "kernelspec": {
            "display_name": "Python 3 (ipykernel)",
            "language": "python",
            "name": "python3"
        },
        "language_info": {
            "codemirror_mode": {
                "name": "ipython",
                "version": 3
            },
            "file_extension": ".py",
            "mimetype": "text/x-python",
            "name": "python",
            "nbconvert_exporter": "python",
            "pygments_lexer": "ipython3",
            "version": "3.8.16"
        }
    },
    "nbformat": 4,
    "nbformat_minor": 5
}
