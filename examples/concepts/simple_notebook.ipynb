{
 "cells": [
  {
   "cell_type": "code",
   "execution_count": null,
   "id": "3e98e89e-765c-42d4-81ea-c371c2eab14d",
   "metadata": {},
   "outputs": [],
   "source": [
    "def add(x, y):\n",
    "    return x + y"
   ]
  },
  {
   "cell_type": "code",
   "execution_count": null,
   "id": "9f1cbac6-cada-42b0-8fb1-ddb25a88836c",
   "metadata": {},
   "outputs": [],
   "source": [
    "def multiply(x, y):\n",
    "    return x * y\n",
    "\n",
    "from pydantic import BaseModel\n",
    "\n",
    "class EggsModel(BaseModel):\n",
    "    ham: str\n",
    "\n",
    "\n",
    "class ObjectType:\n",
    "    def __init__(self):\n",
    "        self.salute = \"hello\""
   ]
  },
  {
   "cell_type": "code",
   "execution_count": null,
   "id": "9dcadc93-aa77-4a0a-9465-2e33eef4da44",
   "metadata": {},
   "outputs": [],
   "source": [
    "a = add(40, 2)"
   ]
  },
  {
   "cell_type": "code",
   "execution_count": null,
   "id": "7b872cdf-820b-47b5-8f22-15c4b69c8637",
   "metadata": {},
   "outputs": [],
   "source": [
    "b = multiply(2, 100)\n",
    "\n",
    "c = EggsModel(ham=\"hello\")"
   ]
  }
 ],
 "metadata": {
  "kernelspec": {
   "display_name": "Python 3 (ipykernel)",
   "language": "python",
   "name": "python3"
  },
  "language_info": {
   "codemirror_mode": {
    "name": "ipython",
    "version": 3
   },
   "file_extension": ".py",
   "mimetype": "text/x-python",
   "name": "python",
   "nbconvert_exporter": "python",
   "pygments_lexer": "ipython3",
   "version": "3.8.16"
  }
 },
 "nbformat": 4,
 "nbformat_minor": 5
}
