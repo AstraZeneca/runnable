{
 "cells": [
  {
   "cell_type": "code",
   "execution_count": null,
   "id": "4377a9c8",
   "metadata": {},
   "outputs": [],
   "source": [
    "from pydantic import BaseModel"
   ]
  },
  {
   "cell_type": "code",
   "execution_count": 1,
   "id": "3e98e89e-765c-42d4-81ea-c371c2eab14d",
   "metadata": {},
   "outputs": [],
   "source": [
    "from runnable import get_parameter, set_parameter\n",
    "\n",
    "class EggsModel(BaseModel):\n",
    "    ham: str\n",
    "\n",
    "\n",
    "class EverythingModel(BaseModel):\n",
    "    spam: str\n",
    "    eggs: EggsModel"
   ]
  },
  {
   "cell_type": "code",
   "execution_count": null,
   "id": "0e04f11a",
   "metadata": {},
   "outputs": [],
   "source": [
    "eggs = get_parameter(\"eggs\", cast_as=EggsModel)\n",
    "spam = get_parameter(\"spam\")"
   ]
  },
  {
   "cell_type": "code",
   "execution_count": null,
   "id": "9f1cbac6-cada-42b0-8fb1-ddb25a88836c",
   "metadata": {},
   "outputs": [],
   "source": [
    "def modify_from_native(spam: str, eggs: EggsModel):\n",
    "    \"\"\"\n",
    "    Access initial parameters by the keys.\n",
    "    Type annotation helps in casting to the right model type.\n",
    "    \"\"\"\n",
    "    print(spam) # as returned by native parameters notebook\n",
    "    \">>> World\"\n",
    "    print(eggs) # as returned by native parameters notebook\n",
    "    \">>> ham='No, Thank you!!'\"\n",
    "\n",
    "    \n",
    "    spam =\"Universe?\"\n",
    "    eggs = EggsModel(ham=\"Maybe, one more!!\")\n",
    "    set_parameter(spam=spam, eggs=eggs)\n",
    "\n",
    "\n",
    "modified = modify_from_native(spam=spam, eggs=eggs)"
   ]
  }
 ],
 "metadata": {
  "kernelspec": {
   "display_name": "Python 3 (ipykernel)",
   "language": "python",
   "name": "python3"
  },
  "language_info": {
   "codemirror_mode": {
    "name": "ipython",
    "version": 3
   },
   "file_extension": ".py",
   "mimetype": "text/x-python",
   "name": "python",
   "nbconvert_exporter": "python",
   "pygments_lexer": "ipython3",
   "version": "3.8.16"
  }
 },
 "nbformat": 4,
 "nbformat_minor": 5
}
