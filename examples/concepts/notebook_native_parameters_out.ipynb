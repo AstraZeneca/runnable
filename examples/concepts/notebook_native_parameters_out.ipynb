{
 "cells": [
  {
   "cell_type": "code",
   "execution_count": 1,
   "id": "3e98e89e-765c-42d4-81ea-c371c2eab14d",
   "metadata": {
    "ploomber": {
     "timestamp_end": 1711168980.974102,
     "timestamp_start": 1711168980.97272
    }
   },
   "outputs": [],
   "source": [
    "from pydantic import BaseModel\n",
    "\n",
    "\n",
    "class EggsModel(BaseModel):\n",
    "    ham: str\n",
    "\n",
    "\n",
    "class EverythingModel(BaseModel):\n",
    "    spam: str\n",
    "    eggs: EggsModel\n",
    "\n",
    "\n",
    "\n",
    "class CustomObject:\n",
    "    def __init__(self, value):\n",
    "        self.value = 42"
   ]
  },
  {
   "cell_type": "code",
   "execution_count": 2,
   "id": "e7f0aab2",
   "metadata": {
    "ploomber": {
     "timestamp_end": 1711168980.974284,
     "timestamp_start": 1711168980.974161
    },
    "tags": [
     "parameters"
    ]
   },
   "outputs": [],
   "source": [
    "# Note the tag parameters\n",
    "spam = \"Change me\" \n",
    "eggs =\"Change me\""
   ]
  },
  {
   "cell_type": "code",
   "execution_count": 3,
   "id": "c8fb2239",
   "metadata": {
    "ploomber": {
     "timestamp_end": 1711168980.974422,
     "timestamp_start": 1711168980.974297
    },
    "tags": [
     "injected-parameters"
    ]
   },
   "outputs": [],
   "source": [
    "# Injected parameters\n",
    "spam = \"Hello\"\n",
    "eggs = {\"ham\": \"Yes, please!!\"}\n"
   ]
  },
  {
   "cell_type": "code",
   "execution_count": 4,
   "id": "0e04f11a",
   "metadata": {
    "ploomber": {
     "timestamp_end": 1711168980.974562,
     "timestamp_start": 1711168980.974433
    }
   },
   "outputs": [],
   "source": [
    "eggs = EggsModel.model_validate(eggs) # Cast the dict to EggsModel object"
   ]
  },
  {
   "cell_type": "code",
   "execution_count": 5,
   "id": "9f1cbac6-cada-42b0-8fb1-ddb25a88836c",
   "metadata": {
    "ploomber": {
     "timestamp_end": 1711168980.974735,
     "timestamp_start": 1711168980.974573
    }
   },
   "outputs": [],
   "source": [
    "spam =\"World\"\n",
    "eggs = EggsModel(ham=\"No, Thank you!!\")\n",
    "custom = CustomObject(value=42)"
   ]
  }
 ],
 "metadata": {
  "kernelspec": {
   "display_name": "Python 3 (ipykernel)",
   "language": "python",
   "name": "python3"
  },
  "language_info": {
   "codemirror_mode": {
    "name": "ipython",
    "version": 3
   },
   "file_extension": ".py",
   "mimetype": "text/x-python",
   "name": "python",
   "nbconvert_exporter": "python",
   "pygments_lexer": "ipython3",
   "version": "3.8.16"
  }
 },
 "nbformat": 4,
 "nbformat_minor": 5
}
