{
 "cells": [
  {
   "cell_type": "code",
   "execution_count": 1,
   "id": "3e98e89e-765c-42d4-81ea-c371c2eab14d",
   "metadata": {
    "ploomber": {
     "timestamp_end": 1709561373.91724,
     "timestamp_start": 1709561373.915948
    }
   },
   "outputs": [],
   "source": [
    "from pydantic import BaseModel\n",
    "\n",
    "class EggsModel(BaseModel):\n",
    "    ham: str\n",
    "\n",
    "\n",
    "class EverythingModel(BaseModel):\n",
    "    spam: str\n",
    "    eggs: EggsModel"
   ]
  },
  {
   "cell_type": "code",
   "execution_count": 2,
   "id": "e7f0aab2",
   "metadata": {
    "ploomber": {
     "timestamp_end": 1709561373.917451,
     "timestamp_start": 1709561373.917315
    },
    "tags": [
     "parameters"
    ]
   },
   "outputs": [],
   "source": [
    "# Note the tag parameters\n",
    "spam = \"Change me\" \n",
    "eggs =\"Change me\""
   ]
  },
  {
   "cell_type": "code",
   "execution_count": 3,
   "id": "db199a1c",
   "metadata": {
    "ploomber": {
     "timestamp_end": 1709561373.917592,
     "timestamp_start": 1709561373.917465
    },
    "tags": [
     "injected-parameters"
    ]
   },
   "outputs": [],
   "source": [
    "# Injected parameters\n",
    "spam = \"Hello\"\n",
    "eggs = {\"ham\": \"Yes, please!!\"}\n"
   ]
  },
  {
   "cell_type": "code",
   "execution_count": 4,
   "id": "0e04f11a",
   "metadata": {
    "ploomber": {
     "timestamp_end": 1709561373.917741,
     "timestamp_start": 1709561373.917604
    }
   },
   "outputs": [],
   "source": [
    "eggs = EggsModel.model_validate(eggs) # Cast the dict to EggsModel object"
   ]
  },
  {
   "cell_type": "code",
   "execution_count": 5,
   "id": "9f1cbac6-cada-42b0-8fb1-ddb25a88836c",
   "metadata": {
    "ploomber": {
     "timestamp_end": 1709561373.917877,
     "timestamp_start": 1709561373.917754
    }
   },
   "outputs": [],
   "source": [
    "spam =\"World\"\n",
    "eggs = EggsModel(ham=\"No, Thank you!!\")"
   ]
  }
 ],
 "metadata": {
  "kernelspec": {
   "display_name": "Python 3 (ipykernel)",
   "language": "python",
   "name": "python3"
  },
  "language_info": {
   "codemirror_mode": {
    "name": "ipython",
    "version": 3
   },
   "file_extension": ".py",
   "mimetype": "text/x-python",
   "name": "python",
   "nbconvert_exporter": "python",
   "pygments_lexer": "ipython3",
   "version": "3.8.16"
  }
 },
 "nbformat": 4,
 "nbformat_minor": 5
}
