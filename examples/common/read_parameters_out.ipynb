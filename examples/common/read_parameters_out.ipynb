{
 "cells": [
  {
   "cell_type": "code",
   "execution_count": 1,
   "id": "41a71aa7",
   "metadata": {
    "ploomber": {
     "timestamp_end": 1714206086.493554,
     "timestamp_start": 1714206086.493198
    },
    "tags": [
     "parameters"
    ]
   },
   "outputs": [],
   "source": [
    "integer = None\n",
    "stringer = None\n",
    "floater = None\n",
    "pydantic_param = None\n",
    "score = None"
   ]
  },
  {
   "cell_type": "code",
   "execution_count": 2,
   "id": "361db089",
   "metadata": {
    "ploomber": {
     "timestamp_end": 1714206086.493804,
     "timestamp_start": 1714206086.493582
    },
    "tags": [
     "injected-parameters"
    ]
   },
   "outputs": [],
   "source": [
    "# Injected parameters\n",
    "integer = 1\n",
    "floater = 3.14\n",
    "pydantic_param = {\"x\": 10, \"foo\": \"bar\"}\n",
    "stringer = \"hello\"\n"
   ]
  },
  {
   "cell_type": "code",
   "execution_count": 3,
   "id": "3e98e89e-765c-42d4-81ea-c371c2eab14d",
   "metadata": {
    "ploomber": {
     "timestamp_end": 1714206086.493983,
     "timestamp_start": 1714206086.493819
    }
   },
   "outputs": [],
   "source": [
    "assert integer == 1\n",
    "assert stringer == \"hello\"\n",
    "assert floater == 3.14"
   ]
  },
  {
   "cell_type": "code",
   "execution_count": 4,
   "id": "faf6769e",
   "metadata": {
    "ploomber": {
     "timestamp_end": 1714206086.494241,
     "timestamp_start": 1714206086.493998
    }
   },
   "outputs": [],
   "source": [
    "from examples.common.functions import ComplexParams\n",
    "\n",
    "pydantic_param = ComplexParams(**pydantic_param)\n",
    "assert pydantic_param.x == 10\n",
    "assert pydantic_param.foo == \"bar\""
   ]
  }
 ],
 "metadata": {
  "kernelspec": {
   "display_name": "Python 3 (ipykernel)",
   "language": "python",
   "name": "python3"
  },
  "language_info": {
   "codemirror_mode": {
    "name": "ipython",
    "version": 3
   },
   "file_extension": ".py",
   "mimetype": "text/x-python",
   "name": "python",
   "nbconvert_exporter": "python",
   "pygments_lexer": "ipython3",
   "version": "3.8.16"
  }
 },
 "nbformat": 4,
 "nbformat_minor": 5
}
