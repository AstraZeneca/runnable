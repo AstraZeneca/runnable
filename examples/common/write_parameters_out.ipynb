{
 "cells": [
  {
   "cell_type": "code",
   "execution_count": 1,
   "id": "41a71aa7",
   "metadata": {
    "ploomber": {
     "timestamp_end": 1714206085.312398,
     "timestamp_start": 1714206085.311976
    },
    "tags": [
     "parameters"
    ]
   },
   "outputs": [],
   "source": [
    "import pandas as pd\n",
    "\n",
    "from examples.common.functions import ComplexParams\n",
    "\n",
    "pydantic_param = ComplexParams(x=10, foo=\"bar\")\n"
   ]
  },
  {
   "cell_type": "code",
   "execution_count": 2,
   "id": "1fbaaa0f",
   "metadata": {
    "ploomber": {
     "timestamp_end": 1714206085.31265,
     "timestamp_start": 1714206085.312423
    },
    "tags": [
     "injected-parameters"
    ]
   },
   "outputs": [],
   "source": [
    "# Injected parameters\n",
    "integer = 1\n",
    "floater = 3.14\n",
    "pydantic_param = {\"x\": 10, \"foo\": \"bar\"}\n",
    "stringer = \"hello\"\n"
   ]
  },
  {
   "cell_type": "code",
   "execution_count": 3,
   "id": "764f661d",
   "metadata": {
    "ploomber": {
     "timestamp_end": 1714206085.313101,
     "timestamp_start": 1714206085.312666
    }
   },
   "outputs": [],
   "source": [
    "data = {\"calories\": [420, 380, 390], \"duration\": [50, 40, 45]}\n",
    "\n",
    "df = pd.DataFrame(data)"
   ]
  },
  {
   "cell_type": "code",
   "execution_count": 4,
   "id": "3e98e89e-765c-42d4-81ea-c371c2eab14d",
   "metadata": {
    "ploomber": {
     "timestamp_end": 1714206085.313268,
     "timestamp_start": 1714206085.313116
    }
   },
   "outputs": [],
   "source": [
    "integer = 1\n",
    "floater = 3.14\n",
    "stringer = \"hello\"\n",
    "score = 0.9"
   ]
  }
 ],
 "metadata": {
  "kernelspec": {
   "display_name": "Python 3 (ipykernel)",
   "language": "python",
   "name": "python3"
  },
  "language_info": {
   "codemirror_mode": {
    "name": "ipython",
    "version": 3
   },
   "file_extension": ".py",
   "mimetype": "text/x-python",
   "name": "python",
   "nbconvert_exporter": "python",
   "pygments_lexer": "ipython3",
   "version": "3.8.16"
  }
 },
 "nbformat": 4,
 "nbformat_minor": 5
}
