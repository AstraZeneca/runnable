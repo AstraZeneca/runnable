{
 "cells": [
  {
   "cell_type": "code",
   "execution_count": null,
   "id": "41a71aa7",
   "metadata": {
    "tags": [
     "parameters"
    ]
   },
   "outputs": [],
   "source": [
    "chunk = None\n",
    "processed_python = None"
   ]
  },
  {
   "cell_type": "code",
   "execution_count": null,
   "id": "a8dc8e64",
   "metadata": {},
   "outputs": [],
   "source": [
    "chunk = int(chunk)"
   ]
  },
  {
   "cell_type": "code",
   "execution_count": null,
   "id": "764f661d",
   "metadata": {},
   "outputs": [],
   "source": [
    "assert chunk * 10 == processed_python"
   ]
  },
  {
   "cell_type": "code",
   "execution_count": null,
   "id": "3e98e89e-765c-42d4-81ea-c371c2eab14d",
   "metadata": {},
   "outputs": [],
   "source": [
    "processed_notebook = processed_python * 10"
   ]
  }
 ],
 "metadata": {
  "kernelspec": {
   "display_name": "Python 3 (ipykernel)",
   "language": "python",
   "name": "python3"
  },
  "language_info": {
   "codemirror_mode": {
    "name": "ipython",
    "version": 3
   },
   "file_extension": ".py",
   "mimetype": "text/x-python",
   "name": "python",
   "nbconvert_exporter": "python",
   "pygments_lexer": "ipython3",
   "version": "3.8.16"
  }
 },
 "nbformat": 4,
 "nbformat_minor": 5
}
