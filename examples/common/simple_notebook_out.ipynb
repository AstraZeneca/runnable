{
 "cells": [
  {
   "cell_type": "code",
   "execution_count": 1,
   "id": "630299e0",
   "metadata": {
    "ploomber": {
     "timestamp_end": 1714206084.990392,
     "timestamp_start": 1714206084.988649
    },
    "tags": [
     "injected-parameters"
    ]
   },
   "outputs": [],
   "source": [
    "# Injected parameters\n",
    "integer = 1\n",
    "floater = 3.14\n",
    "pydantic_param = {\"x\": 10, \"foo\": \"bar\"}\n",
    "stringer = \"hello\"\n"
   ]
  },
  {
   "cell_type": "code",
   "execution_count": 2,
   "id": "3e98e89e-765c-42d4-81ea-c371c2eab14d",
   "metadata": {
    "ploomber": {
     "timestamp_end": 1714206084.990557,
     "timestamp_start": 1714206084.990414
    }
   },
   "outputs": [],
   "source": [
    "def function():\n",
    "    print(\"Hello World!\")"
   ]
  },
  {
   "cell_type": "code",
   "execution_count": 3,
   "id": "8eac7a3f",
   "metadata": {
    "ploomber": {
     "timestamp_end": 1714206084.990685,
     "timestamp_start": 1714206084.990571
    }
   },
   "outputs": [
    {
     "name": "stdout",
     "output_type": "stream",
     "text": [
      "Hello World!\n"
     ]
    }
   ],
   "source": [
    "function()"
   ]
  }
 ],
 "metadata": {
  "kernelspec": {
   "display_name": "Python 3 (ipykernel)",
   "language": "python",
   "name": "python3"
  },
  "language_info": {
   "codemirror_mode": {
    "name": "ipython",
    "version": 3
   },
   "file_extension": ".py",
   "mimetype": "text/x-python",
   "name": "python",
   "nbconvert_exporter": "python",
   "pygments_lexer": "ipython3",
   "version": "3.8.16"
  }
 },
 "nbformat": 4,
 "nbformat_minor": 5
}
