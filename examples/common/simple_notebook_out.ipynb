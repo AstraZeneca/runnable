{
 "cells": [
  {
   "cell_type": "code",
   "execution_count": 1,
   "id": "bd34d156",
   "metadata": {
    "ploomber": {
     "timestamp_end": 1714453073.951735,
     "timestamp_start": 1714453073.951505
    },
    "tags": [
     "injected-parameters"
    ]
   },
   "outputs": [],
   "source": [
    "# Injected parameters\n"
   ]
  },
  {
   "cell_type": "code",
   "execution_count": 2,
   "id": "3e98e89e-765c-42d4-81ea-c371c2eab14d",
   "metadata": {
    "ploomber": {
     "timestamp_end": 1714453073.951955,
     "timestamp_start": 1714453073.95176
    }
   },
   "outputs": [],
   "source": [
    "def function():\n",
    "    print(\"Hello World!\")"
   ]
  },
  {
   "cell_type": "code",
   "execution_count": 3,
   "id": "8eac7a3f",
   "metadata": {
    "ploomber": {
     "timestamp_end": 1714453073.952089,
     "timestamp_start": 1714453073.951969
    }
   },
   "outputs": [
    {
     "name": "stdout",
     "output_type": "stream",
     "text": [
      "Hello World!\n"
     ]
    }
   ],
   "source": [
    "function()"
   ]
  }
 ],
 "metadata": {
  "kernelspec": {
   "display_name": "Python 3 (ipykernel)",
   "language": "python",
   "name": "python3"
  },
  "language_info": {
   "codemirror_mode": {
    "name": "ipython",
    "version": 3
   },
   "file_extension": ".py",
   "mimetype": "text/x-python",
   "name": "python",
   "nbconvert_exporter": "python",
   "pygments_lexer": "ipython3",
   "version": "3.8.16"
  }
 },
 "nbformat": 4,
 "nbformat_minor": 5
}
