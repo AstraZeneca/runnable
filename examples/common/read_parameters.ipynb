{
 "cells": [
  {
   "cell_type": "code",
   "execution_count": null,
   "id": "41a71aa7",
   "metadata": {
    "tags": [
     "parameters"
    ]
   },
   "outputs": [],
   "source": [
    "integer = None\n",
    "stringer = None\n",
    "floater = None\n",
    "pydantic_param = None\n",
    "score = None"
   ]
  },
  {
   "cell_type": "code",
   "execution_count": null,
   "id": "3e98e89e-765c-42d4-81ea-c371c2eab14d",
   "metadata": {},
   "outputs": [],
   "source": [
    "assert integer == 1\n",
    "assert stringer == \"hello\"\n",
    "assert floater == 3.14"
   ]
  },
  {
   "cell_type": "code",
   "execution_count": null,
   "id": "faf6769e",
   "metadata": {},
   "outputs": [],
   "source": [
    "from examples.common.functions import ComplexParams\n",
    "\n",
    "pydantic_param = ComplexParams(**pydantic_param)\n",
    "assert pydantic_param.x == 10\n",
    "assert pydantic_param.foo == \"bar\""
   ]
  }
 ],
 "metadata": {
  "kernelspec": {
   "display_name": "Python 3 (ipykernel)",
   "language": "python",
   "name": "python3"
  },
  "language_info": {
   "codemirror_mode": {
    "name": "ipython",
    "version": 3
   },
   "file_extension": ".py",
   "mimetype": "text/x-python",
   "name": "python",
   "nbconvert_exporter": "python",
   "pygments_lexer": "ipython3",
   "version": "3.8.16"
  }
 },
 "nbformat": 4,
 "nbformat_minor": 5
}
