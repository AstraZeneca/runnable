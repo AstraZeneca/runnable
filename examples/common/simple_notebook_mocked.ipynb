{
 "cells": [
  {
   "cell_type": "code",
   "execution_count": null,
   "id": "3e98e89e-765c-42d4-81ea-c371c2eab14d",
   "metadata": {},
   "outputs": [],
   "source": [
    "def function():\n",
    "    print(\"hello from mock\")"
   ]
  },
  {
   "cell_type": "code",
   "execution_count": null,
   "id": "8eac7a3f",
   "metadata": {},
   "outputs": [],
   "source": [
    "function()"
   ]
  }
 ],
 "metadata": {
  "kernelspec": {
   "display_name": "Python 3 (ipykernel)",
   "language": "python",
   "name": "python3"
  },
  "language_info": {
   "codemirror_mode": {
    "name": "ipython",
    "version": 3
   },
   "file_extension": ".py",
   "mimetype": "text/x-python",
   "name": "python",
   "nbconvert_exporter": "python",
   "pygments_lexer": "ipython3",
   "version": "3.8.16"
  }
 },
 "nbformat": 4,
 "nbformat_minor": 5
}
